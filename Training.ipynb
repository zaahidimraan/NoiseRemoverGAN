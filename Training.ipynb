{
 "cells": [
  {
   "cell_type": "markdown",
   "metadata": {},
   "source": [
    "# Libraries Loading"
   ]
  },
  {
   "cell_type": "code",
   "execution_count": 1,
   "metadata": {},
   "outputs": [],
   "source": [
    "import utils.dataHandlingUtils as dU"
   ]
  },
  {
   "cell_type": "code",
   "execution_count": 2,
   "metadata": {},
   "outputs": [],
   "source": [
    "import os\n",
    "import torchaudio\n",
    "import torch"
   ]
  },
  {
   "cell_type": "markdown",
   "metadata": {},
   "source": [
    "# Data Preprocessing"
   ]
  },
  {
   "cell_type": "code",
   "execution_count": null,
   "metadata": {},
   "outputs": [],
   "source": [
    "audio_file = \"your_audio_file.wav\" \n",
    "folder_path = \"your_folder_path\"\n",
    "\n",
    "waveform, sample_rate = dU.load(audio_file)\n",
    "dU.plot_spectrogram(waveform, sample_rate)\n",
    "dU.play_audio(waveform, sample_rate)\n",
    "\n",
    "print(\"Sample Rate:\", dU.get_sample_rate(audio_file))\n",
    "print(\"Files in folder:\", dU.count_files_in_folder(folder_path))\n",
    "\n",
    "is_audio, common_sample_rate = dU.check_sample_rate_consistency(folder_path)\n",
    "if is_audio:\n",
    "    print(\"All audio files have the same sample rate:\", common_sample_rate)\n",
    "else:\n",
    "    print(\"Audio files have different sample rates.\")\n"
   ]
  }
 ],
 "metadata": {
  "kernelspec": {
   "display_name": "venv",
   "language": "python",
   "name": "python3"
  },
  "language_info": {
   "codemirror_mode": {
    "name": "ipython",
    "version": 3
   },
   "file_extension": ".py",
   "mimetype": "text/x-python",
   "name": "python",
   "nbconvert_exporter": "python",
   "pygments_lexer": "ipython3",
   "version": "3.11.6"
  }
 },
 "nbformat": 4,
 "nbformat_minor": 2
}
